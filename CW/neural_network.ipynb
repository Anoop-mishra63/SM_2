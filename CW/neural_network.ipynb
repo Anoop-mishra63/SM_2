{
  "nbformat": 4,
  "nbformat_minor": 0,
  "metadata": {
    "colab": {
      "name": "neural_network.ipynb",
      "provenance": [],
      "collapsed_sections": [],
      "authorship_tag": "ABX9TyNw/wr6jz3qxBLJF84jAWJA",
      "include_colab_link": true
    },
    "kernelspec": {
      "name": "python3",
      "display_name": "Python 3"
    }
  },
  "cells": [
    {
      "cell_type": "markdown",
      "metadata": {
        "id": "view-in-github",
        "colab_type": "text"
      },
      "source": [
        "<a href=\"https://colab.research.google.com/github/Anoop-mishra63/SM_2/blob/master/CW/neural_network.ipynb\" target=\"_parent\"><img src=\"https://colab.research.google.com/assets/colab-badge.svg\" alt=\"Open In Colab\"/></a>"
      ]
    },
    {
      "cell_type": "code",
      "metadata": {
        "id": "orlvdZWdwmDX",
        "colab_type": "code",
        "colab": {}
      },
      "source": [
        "import numpy as np\n"
      ],
      "execution_count": null,
      "outputs": []
    },
    {
      "cell_type": "code",
      "metadata": {
        "id": "2dFmuqqiz8xv",
        "colab_type": "code",
        "colab": {}
      },
      "source": [
        "np.random.seed(1)\n",
        "X_assess=np.random.randn(2,3)##randn is for normalization\n",
        "Y_assess=(np.random.randn(1,3)>0)"
      ],
      "execution_count": null,
      "outputs": []
    },
    {
      "cell_type": "code",
      "metadata": {
        "id": "_dCW0vkp1NmI",
        "colab_type": "code",
        "colab": {
          "base_uri": "https://localhost:8080/",
          "height": 68
        },
        "outputId": "a5bf4739-fef9-4f24-e5f4-a7cacb901fbe"
      },
      "source": [
        "print(\"X:\"+str(X_assess))\n",
        "print(\"Y:\"+str(Y_assess))"
      ],
      "execution_count": null,
      "outputs": [
        {
          "output_type": "stream",
          "text": [
            "X:[[ 1.62434536 -0.61175641 -0.52817175]\n",
            " [-1.07296862  0.86540763 -2.3015387 ]]\n",
            "Y:[[ True False  True]]\n"
          ],
          "name": "stdout"
        }
      ]
    },
    {
      "cell_type": "code",
      "metadata": {
        "id": "sT9nvhH21aew",
        "colab_type": "code",
        "colab": {}
      },
      "source": [
        "##1\n",
        "def layer(X,Y):\n",
        "  n_x=X.shape[0]\n",
        "  n_h=4\n",
        "  n_y=Y.shape[0]##dim of output layer\n",
        "  return (n_x,n_h,n_y)\n"
      ],
      "execution_count": null,
      "outputs": []
    },
    {
      "cell_type": "code",
      "metadata": {
        "id": "E0p9vdwr2gqm",
        "colab_type": "code",
        "colab": {}
      },
      "source": [
        "##2\n",
        "def initialize_parameters(n_x,n_h,n_y):\n",
        "  np.random.seed(2)##optional step hai,sir did to match with excel wala example\n",
        "  W1=np.random.randn(n_h,n_x)*0.01##optional to multiply with 0.01\n",
        "  b1=np.zeros(shape=(n_h,1))##always 1 hi dimension rehta hai\n",
        "  W2=np.random.randn(n_y,n_h)*0.01\n",
        "  b2=np.zeros(shape=(n_y,1))##np. zeros for matrix of zero\n",
        "\n",
        "  parameters={\"W1\":W1,\"b1\":b1,\"W2\":W2,\"b2\":b2}\n",
        "  return parameters"
      ],
      "execution_count": null,
      "outputs": []
    },
    {
      "cell_type": "code",
      "metadata": {
        "id": "iqFrwtQN5tSk",
        "colab_type": "code",
        "colab": {
          "base_uri": "https://localhost:8080/",
          "height": 187
        },
        "outputId": "96f76dc9-da36-427a-af11-b51aa13d8b9b"
      },
      "source": [
        "n_x,n_h,n_y=2,4,1\n",
        "parameters=initialize_parameters(n_x,n_h,n_y)\n",
        "parameters"
      ],
      "execution_count": null,
      "outputs": [
        {
          "output_type": "execute_result",
          "data": {
            "text/plain": [
              "{'W1': array([[-0.00416758, -0.00056267],\n",
              "        [-0.02136196,  0.01640271],\n",
              "        [-0.01793436, -0.00841747],\n",
              "        [ 0.00502881, -0.01245288]]),\n",
              " 'W2': array([[-0.01057952, -0.00909008,  0.00551454,  0.02292208]]),\n",
              " 'b1': array([[0.],\n",
              "        [0.],\n",
              "        [0.],\n",
              "        [0.]]),\n",
              " 'b2': array([[0.]])}"
            ]
          },
          "metadata": {
            "tags": []
          },
          "execution_count": 10
        }
      ]
    },
    {
      "cell_type": "code",
      "metadata": {
        "id": "hAdmTRZt6NLh",
        "colab_type": "code",
        "colab": {}
      },
      "source": [
        "##3\n",
        "def sigmoid(Z):\n",
        "  s=1/(1+np.exp(-Z))\n",
        "  return s"
      ],
      "execution_count": null,
      "outputs": []
    },
    {
      "cell_type": "code",
      "metadata": {
        "id": "Qrdsf2p56dWJ",
        "colab_type": "code",
        "colab": {}
      },
      "source": [
        "##4\n",
        "def forward_propagation(X,parameters):\n",
        "  W1=parameters[\"W1\"]\n",
        "  b1=parameters[\"b1\"]\n",
        "  W2=parameters[\"W2\"]\n",
        "  b2=parameters[\"b2\"]\n",
        "\n",
        "  Z1=np.dot(W1,X)+b1\n",
        "  A1=np.tanh(Z1)\n",
        "  Z2=np.dot(W2,A1)+b2\n",
        "  A2=sigmoid(Z2)\n",
        "\n",
        "  cache={\"Z1\":Z1,\"A1\":A1,\"Z2\":Z2,\"A2\":A2}\n",
        "  return A2,cache\n"
      ],
      "execution_count": null,
      "outputs": []
    },
    {
      "cell_type": "code",
      "metadata": {
        "id": "ygR-Eu097j_G",
        "colab_type": "code",
        "colab": {
          "base_uri": "https://localhost:8080/",
          "height": 187
        },
        "outputId": "edb3f45c-72fd-40bc-c338-10c2a9f78267"
      },
      "source": [
        "A2,cache=forward_propagation(X_assess,parameters)\n",
        "cache"
      ],
      "execution_count": null,
      "outputs": [
        {
          "output_type": "execute_result",
          "data": {
            "text/plain": [
              "{'A1': array([[-0.00616578,  0.0020626 ,  0.00349619],\n",
              "        [-0.05225116,  0.02725659, -0.0264625 ],\n",
              "        [-0.0200972 ,  0.00368689,  0.02883756],\n",
              "        [ 0.02152676, -0.01385234,  0.02599885]]),\n",
              " 'A2': array([[0.5002307 , 0.49985831, 0.50023963]]),\n",
              " 'Z1': array([[-0.00616586,  0.00206261,  0.0034962 ],\n",
              "        [-0.05229879,  0.02726335, -0.02646868],\n",
              "        [-0.0200999 ,  0.00368691,  0.02884556],\n",
              "        [ 0.02153008, -0.01385323,  0.02600471]]),\n",
              " 'Z2': array([[ 0.00092281, -0.00056678,  0.00095853]])}"
            ]
          },
          "metadata": {
            "tags": []
          },
          "execution_count": 13
        }
      ]
    },
    {
      "cell_type": "code",
      "metadata": {
        "id": "UlpB6aPPI7kZ",
        "colab_type": "code",
        "colab": {}
      },
      "source": [
        ""
      ],
      "execution_count": null,
      "outputs": []
    },
    {
      "cell_type": "code",
      "metadata": {
        "id": "8eQTaR-W9Yjb",
        "colab_type": "code",
        "colab": {}
      },
      "source": [
        "##5\n",
        "def compute_cost(A2,Y,parameters):\n",
        "  m=Y.shape[1]\n",
        "  cost=-np.sum(Y*np.log(A2)+(1-Y)*np.log(1-A2))/m\n",
        "  return cost"
      ],
      "execution_count": null,
      "outputs": []
    },
    {
      "cell_type": "code",
      "metadata": {
        "id": "OhvnMTTZ-J2w",
        "colab_type": "code",
        "colab": {
          "base_uri": "https://localhost:8080/",
          "height": 34
        },
        "outputId": "88963118-521d-4400-f209-797caf3509ba"
      },
      "source": [
        "cost=compute_cost(A2,Y_assess,parameters)\n",
        "print(cost)"
      ],
      "execution_count": null,
      "outputs": [
        {
          "output_type": "stream",
          "text": [
            "0.6927392477233995\n"
          ],
          "name": "stdout"
        }
      ]
    },
    {
      "cell_type": "code",
      "metadata": {
        "id": "guUu9CLI-opA",
        "colab_type": "code",
        "colab": {}
      },
      "source": [
        "##6\n",
        "def backward_propagation(parameters,cache,X,Y):\n",
        "  m=X.shape[1]\n",
        "\n",
        "  W1=parameters[\"W1\"]\n",
        "  b1=parameters[\"b1\"]##optional\n",
        "  W2=parameters[\"W2\"]\n",
        "  b2=parameters[\"b2\"]#optional\n",
        "\n",
        "  A1=cache[\"A1\"]\n",
        "  A2=cache[\"A2\"]\n",
        "\n",
        "  dZ2=A2-Y\n",
        "  dw2=np.dot(dZ2,A1.T)/m\n",
        "  db2=np.sum(dZ2,axis=1,keepdims=True)/m # we can for avg also but this is better as dim is mentioned\n",
        "  dZ1=np.dot(W2.T,dZ2)*(1-np.power(A1,2))\n",
        "  dW1=np.dot(dZ1,X.T)/m\n",
        "  db1=np.sum(dZ1,axis=1,keepdims=True)/m\n",
        "\n",
        "  grads={\"dW1\":dW1,\"db1\":db1,\"dZ1\":dZ1,\"dW2\":dw2,\"db2\":db2}\n",
        "  return grads\n",
        "\n",
        "\n"
      ],
      "execution_count": null,
      "outputs": []
    },
    {
      "cell_type": "code",
      "metadata": {
        "id": "R1CTG4lXBnvm",
        "colab_type": "code",
        "colab": {
          "base_uri": "https://localhost:8080/",
          "height": 255
        },
        "outputId": "c2e377a6-4278-4a09-8f82-17eaee2cfbf0"
      },
      "source": [
        "grads=backward_propagation(parameters,cache,X_assess,Y_assess)\n",
        "grads"
      ],
      "execution_count": null,
      "outputs": [
        {
          "output_type": "execute_result",
          "data": {
            "text/plain": [
              "{'dW1': array([[ 0.00301023, -0.00747267],\n",
              "        [ 0.00257968, -0.00641288],\n",
              "        [-0.00156892,  0.003893  ],\n",
              "        [-0.00652037,  0.01618243]]),\n",
              " 'dW2': array([[ 0.00078841,  0.01765429, -0.00084166, -0.01022527]]),\n",
              " 'dZ1': array([[ 0.00528712, -0.00528824,  0.00528716],\n",
              "        [ 0.00453054, -0.00454037,  0.00453968],\n",
              "        [-0.00275488,  0.00275645, -0.00275366],\n",
              "        [-0.01145044,  0.01145559, -0.0114478 ]]),\n",
              " 'db1': array([[ 0.00176201],\n",
              "        [ 0.00150995],\n",
              "        [-0.00091736],\n",
              "        [-0.00381422]]),\n",
              " 'db2': array([[-0.16655712]])}"
            ]
          },
          "metadata": {
            "tags": []
          },
          "execution_count": 17
        }
      ]
    },
    {
      "cell_type": "code",
      "metadata": {
        "id": "w4mbsovpCGuV",
        "colab_type": "code",
        "colab": {}
      },
      "source": [
        "##7\n",
        "def update_parameters(parameters,grad,lr=1.2):\n",
        "  W1=parameters[\"W1\"]\n",
        "  b1=parameters[\"b1\"]\n",
        "  W2=parameters[\"W2\"]\n",
        "  b2=parameters[\"b2\"]\n",
        "\n",
        "  dW1=grads[\"dW1\"]\n",
        "  db1=grads[\"db1\"]\n",
        "  dW2=grads[\"dW2\"]\n",
        "  db2=grads[\"db2\"]\n",
        "\n",
        "  W1=W1-lr*dW1\n",
        "  W2=W2-lr*dW2\n",
        "  b1=b1-lr*db1\n",
        "  b2=b2-lr*db2\n",
        "\n",
        "  parameters={\"W1\":W1,\"W2\":W2,\"b1\":b1,\"b2\":b2}\n",
        "  return parameters"
      ],
      "execution_count": null,
      "outputs": []
    },
    {
      "cell_type": "code",
      "metadata": {
        "id": "hB-SzT63EVRZ",
        "colab_type": "code",
        "colab": {
          "base_uri": "https://localhost:8080/",
          "height": 187
        },
        "outputId": "58af03e9-860d-4402-cc17-9a13da241a02"
      },
      "source": [
        "parameters=update_parameters(parameters,grads,lr=1.2)\n",
        "parameters"
      ],
      "execution_count": null,
      "outputs": [
        {
          "output_type": "execute_result",
          "data": {
            "text/plain": [
              "{'W1': array([[-0.00777986,  0.00840453],\n",
              "        [-0.02445757,  0.02409817],\n",
              "        [-0.01605165, -0.01308908],\n",
              "        [ 0.01285325, -0.0318718 ]]),\n",
              " 'W2': array([[-0.01152561, -0.03027522,  0.00652453,  0.03519241]]),\n",
              " 'b1': array([[-0.00211442],\n",
              "        [-0.00181194],\n",
              "        [ 0.00110084],\n",
              "        [ 0.00457706]]),\n",
              " 'b2': array([[0.19986854]])}"
            ]
          },
          "metadata": {
            "tags": []
          },
          "execution_count": 19
        }
      ]
    },
    {
      "cell_type": "code",
      "metadata": {
        "id": "M4CjnentE670",
        "colab_type": "code",
        "colab": {}
      },
      "source": [
        "def nn_model(X,Y,n_h,num_itr=100000,print_cost=False):\n",
        "\n",
        "  np.random.seed(3)\n",
        "  n_x=layer(X,Y)[0]\n",
        "  n_y=layer(X,Y)[2]\n",
        "\n",
        "  parameters=initialize_parameters(n_x,n_h,n_y)\n",
        "\n",
        "  for i in range(0,num_itr):\n",
        "    A2,cache=forward_propagation(X,parameters)\n",
        "\n",
        "    cost=compute_cost(A2,Y,parameters)\n",
        "\n",
        "    grads=backward_propagation(parameters,cache,X,Y)\n",
        "\n",
        "    parameters=update_parameters(parameters,grads,lr=1.2)\n",
        "\n",
        "    if print_cost and i % 1000 == 0:\n",
        "      print (\"Cost after iteration %i: %f\" %(i, cost))\n",
        "\n",
        "    return parameters  \n",
        "\n",
        "\n",
        "    \n",
        "\n"
      ],
      "execution_count": null,
      "outputs": []
    },
    {
      "cell_type": "code",
      "metadata": {
        "id": "Y92J1J9_HcdL",
        "colab_type": "code",
        "colab": {
          "base_uri": "https://localhost:8080/",
          "height": 187
        },
        "outputId": "66e02b8b-7bbe-4956-b3df-13a9c6f2b2f6"
      },
      "source": [
        "parameters=nn_model(X_assess,Y_assess,n_h,num_itr=100000,print_cost=False)\n",
        "parameters"
      ],
      "execution_count": null,
      "outputs": [
        {
          "output_type": "execute_result",
          "data": {
            "text/plain": [
              "{'W1': array([[-0.00777986,  0.00840453],\n",
              "        [-0.02445757,  0.02409817],\n",
              "        [-0.01605165, -0.01308908],\n",
              "        [ 0.01285325, -0.0318718 ]]),\n",
              " 'W2': array([[-0.01152561, -0.03027522,  0.00652453,  0.03519241]]),\n",
              " 'b1': array([[-0.00211442],\n",
              "        [-0.00181194],\n",
              "        [ 0.00110084],\n",
              "        [ 0.00457706]]),\n",
              " 'b2': array([[0.19986854]])}"
            ]
          },
          "metadata": {
            "tags": []
          },
          "execution_count": 21
        }
      ]
    },
    {
      "cell_type": "code",
      "metadata": {
        "id": "VnBUJNzSJLT3",
        "colab_type": "code",
        "colab": {}
      },
      "source": [
        "def predict(parameters,X):\n",
        "  A2,cache=forward_propagation(X,parameters)\n",
        "  predictions=np.round(A2)\n",
        "\n",
        "  return predictions"
      ],
      "execution_count": null,
      "outputs": []
    },
    {
      "cell_type": "code",
      "metadata": {
        "id": "FxzWWn49JimD",
        "colab_type": "code",
        "colab": {
          "base_uri": "https://localhost:8080/",
          "height": 34
        },
        "outputId": "da77748f-c448-4285-d6aa-daf296185ab9"
      },
      "source": [
        "predict(parameters,X_assess)"
      ],
      "execution_count": null,
      "outputs": [
        {
          "output_type": "execute_result",
          "data": {
            "text/plain": [
              "array([[1., 1., 1.]])"
            ]
          },
          "metadata": {
            "tags": []
          },
          "execution_count": 23
        }
      ]
    },
    {
      "cell_type": "code",
      "metadata": {
        "id": "dHwG-c_JLj3J",
        "colab_type": "code",
        "colab": {}
      },
      "source": [
        "##Creat a random data\n",
        "def load_planar_dataset():\n",
        "    np.random.seed(1)\n",
        "    m = 400 # number of examples\n",
        "    N = int(m/2) # number of points per class\n",
        "    D = 2 # dimensionality\n",
        "    X = np.zeros((m,D)) # data matrix where each row is a single example\n",
        "    Y = np.zeros((m,1), dtype='uint8') # labels vector (0 for red, 1 for blue)\n",
        "    a = 4 # maximum ray of the flower\n",
        " \n",
        "    for j in range(2):\n",
        "        ix = range(N*j,N*(j+1))\n",
        "        t = np.linspace(j*3.12,(j+1)*3.12,N) + np.random.randn(N)*0.2 # theta\n",
        "        r = a*np.sin(4*t) + np.random.randn(N)*0.2 # radius\n",
        "        X[ix] = np.c_[r*np.sin(t), r*np.cos(t)]\n",
        "        Y[ix] = j\n",
        "        \n",
        "    X = X.T\n",
        "    Y = Y.T\n",
        " \n",
        "    return X, Y"
      ],
      "execution_count": null,
      "outputs": []
    },
    {
      "cell_type": "code",
      "metadata": {
        "id": "VzagSAjVL_3y",
        "colab_type": "code",
        "colab": {}
      },
      "source": [
        "X, Y= load_planar_dataset()"
      ],
      "execution_count": null,
      "outputs": []
    },
    {
      "cell_type": "code",
      "metadata": {
        "id": "DRM_vTojMMUz",
        "colab_type": "code",
        "colab": {
          "base_uri": "https://localhost:8080/",
          "height": 197
        },
        "outputId": "a142ac71-d6a5-4900-96a4-50becb08796e"
      },
      "source": [
        "parameters=nn_model(X, Y,n_h=4,num_itr=100000,print_cost=False)\n",
        "predictions=predict(parameters,X)\n",
        "print ('Accuracy: %d' % float((np.dot(Y, predictions.T) + np.dot(1 - Y, 1 - predictions.T)) / float(Y.size) * 100) + '%')"
      ],
      "execution_count": null,
      "outputs": [
        {
          "output_type": "error",
          "ename": "TypeError",
          "evalue": "ignored",
          "traceback": [
            "\u001b[0;31m---------------------------------------------------------------------------\u001b[0m",
            "\u001b[0;31mTypeError\u001b[0m                                 Traceback (most recent call last)",
            "\u001b[0;32m<ipython-input-37-367b1d37a5c5>\u001b[0m in \u001b[0;36m<module>\u001b[0;34m()\u001b[0m\n\u001b[0;32m----> 1\u001b[0;31m \u001b[0mparameters\u001b[0m\u001b[0;34m=\u001b[0m\u001b[0mnn_model\u001b[0m\u001b[0;34m(\u001b[0m\u001b[0mX\u001b[0m\u001b[0;34m,\u001b[0m \u001b[0mY\u001b[0m\u001b[0;34m,\u001b[0m\u001b[0mn_h\u001b[0m\u001b[0;34m=\u001b[0m\u001b[0;36m4\u001b[0m\u001b[0;34m,\u001b[0m\u001b[0mnum_itr\u001b[0m\u001b[0;34m=\u001b[0m\u001b[0;36m100000\u001b[0m\u001b[0;34m,\u001b[0m\u001b[0mprint_cost\u001b[0m\u001b[0;34m=\u001b[0m\u001b[0;32mFalse\u001b[0m\u001b[0;34m)\u001b[0m\u001b[0;34m\u001b[0m\u001b[0;34m\u001b[0m\u001b[0m\n\u001b[0m\u001b[1;32m      2\u001b[0m \u001b[0mpredictions\u001b[0m\u001b[0;34m=\u001b[0m\u001b[0mpredict\u001b[0m\u001b[0;34m(\u001b[0m\u001b[0mparameters\u001b[0m\u001b[0;34m,\u001b[0m\u001b[0mX\u001b[0m\u001b[0;34m)\u001b[0m\u001b[0;34m\u001b[0m\u001b[0;34m\u001b[0m\u001b[0m\n\u001b[1;32m      3\u001b[0m \u001b[0mprint\u001b[0m \u001b[0;34m(\u001b[0m\u001b[0;34m'Accuracy: %d'\u001b[0m \u001b[0;34m%\u001b[0m \u001b[0mfloat\u001b[0m\u001b[0;34m(\u001b[0m\u001b[0;34m(\u001b[0m\u001b[0mnp\u001b[0m\u001b[0;34m.\u001b[0m\u001b[0mdot\u001b[0m\u001b[0;34m(\u001b[0m\u001b[0mY\u001b[0m\u001b[0;34m,\u001b[0m \u001b[0mpredictions\u001b[0m\u001b[0;34m.\u001b[0m\u001b[0mT\u001b[0m\u001b[0;34m)\u001b[0m \u001b[0;34m+\u001b[0m \u001b[0mnp\u001b[0m\u001b[0;34m.\u001b[0m\u001b[0mdot\u001b[0m\u001b[0;34m(\u001b[0m\u001b[0;36m1\u001b[0m \u001b[0;34m-\u001b[0m \u001b[0mY\u001b[0m\u001b[0;34m,\u001b[0m \u001b[0;36m1\u001b[0m \u001b[0;34m-\u001b[0m \u001b[0mpredictions\u001b[0m\u001b[0;34m.\u001b[0m\u001b[0mT\u001b[0m\u001b[0;34m)\u001b[0m\u001b[0;34m)\u001b[0m \u001b[0;34m/\u001b[0m \u001b[0mfloat\u001b[0m\u001b[0;34m(\u001b[0m\u001b[0mY\u001b[0m\u001b[0;34m.\u001b[0m\u001b[0msize\u001b[0m\u001b[0;34m)\u001b[0m \u001b[0;34m*\u001b[0m \u001b[0;36m100\u001b[0m\u001b[0;34m)\u001b[0m \u001b[0;34m+\u001b[0m \u001b[0;34m'%'\u001b[0m\u001b[0;34m)\u001b[0m\u001b[0;34m\u001b[0m\u001b[0;34m\u001b[0m\u001b[0m\n",
            "\u001b[0;31mTypeError\u001b[0m: 'dict' object is not callable"
          ]
        }
      ]
    }
  ]
}